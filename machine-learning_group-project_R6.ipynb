{
 "cells": [
  {
   "cell_type": "code",
   "execution_count": null,
   "id": "0b7575ac",
   "metadata": {},
   "outputs": [],
   "source": [
    "# SEHS4696 Machine Learning for Data Mining\n",
    "# Group Project\n",
    "# Topic: The Future Rent of Private Offices in Hong Kong\n",
    "\n",
    "# author: SEHS4696 MACHINE LEARNING FOR DATA MINING (Group 5)\n",
    "# Student names and numbers: 22053502S LUI Wing Ho\n",
    "#                            22059069S HO Man Kit\n",
    "#                            22059727S FUNG Ho Wai\n",
    "#                            22059790S CHEN Yuanhang\n",
    "#                            22060542S CHAN Ka Lok"
   ]
  },
  {
   "cell_type": "code",
   "execution_count": null,
   "id": "79c42086",
   "metadata": {},
   "outputs": [],
   "source": [
    "# reference list\n",
    "# https://www.kaggle.com/code/prashant111/complete-guide-on-time-series-analysis-in-python\n",
    "# https://www.kaggle.com/code/prashant111/arima-model-for-time-series-forecasting/notebook\n",
    "# https://www.kaggle.com/code/robikscube/time-series-forecasting-with-machine-learning-yt"
   ]
  },
  {
   "cell_type": "code",
   "execution_count": null,
   "id": "1c8d7d31",
   "metadata": {},
   "outputs": [],
   "source": [
    "# import the necessary package\n",
    "# import statements here\n",
    "import pandas as pd\n",
    "import numpy as np\n",
    "!pip install pmdarima\n",
    "import pmdarima as pm\n",
    "from matplotlib import pyplot as plt\n",
    "from sklearn.impute import SimpleImputer\n",
    "from sklearn.model_selection import train_test_split\n",
    "from sklearn.linear_model import LinearRegression\n",
    "from sklearn.metrics import mean_squared_error, r2_score\n",
    "from sklearn.metrics import accuracy_score, classification_report, confusion_matrix"
   ]
  },
  {
   "cell_type": "code",
   "execution_count": null,
   "id": "7e88b195",
   "metadata": {},
   "outputs": [],
   "source": [
    "# ** 1. Load and Understand the Data\n",
    "# Load the dataset into a dataframe called df\n",
    "df = pd.read_csv('2.1M.csv', header=1)\n",
    "\n",
    "# Check the dataset infomation\n",
    "print(df.head())\n",
    "print(df.info())"
   ]
  },
  {
   "cell_type": "code",
   "execution_count": null,
   "id": "0c89032c-e055-4a5c-9488-b47db4aee63b",
   "metadata": {},
   "outputs": [],
   "source": [
    "# ** 2. Data Preprocessing\n",
    "# -- 2.1 Drop Unnecessary Features\n",
    "df.drop('Grade A Sheung Wan - Remarks',axis=1,inplace=True)\n",
    "df.drop('Grade A Central - Remarks',axis=1,inplace=True)\n",
    "df.drop('Grade A Wan Chai / Causeway Bay - Remarks',axis=1,inplace=True)\n",
    "df.drop('Grade A North Point / Quarry Bay - Remarks',axis=1,inplace=True)\n",
    "df.drop('Grade A Tsim Sha Tsui - Remarks',axis=1,inplace=True)\n",
    "df.drop('Grade A Yau Ma Tei / Mong Kok - Remarks',axis=1,inplace=True)\n",
    "df.drop('Grade A Kowloon Bay / Kwun Tong - Remarks',axis=1,inplace=True)\n",
    "\n",
    "df.drop('Grade B Sheung Wan - Remarks',axis=1,inplace=True)\n",
    "df.drop('Grade B Central - Remarks',axis=1,inplace=True)\n",
    "df.drop('Grade B Wan Chai / Causeway Bay - Remarks',axis=1,inplace=True)\n",
    "df.drop('Grade B North Point / Quarry Bay - Remarks',axis=1,inplace=True)\n",
    "df.drop('Grade B Tsim Sha Tsui - Remarks',axis=1,inplace=True)\n",
    "df.drop('Grade B Yau Ma Tei / Mong Kok - Remarks',axis=1,inplace=True)\n",
    "df.drop('Grade B Kowloon Bay / Kwun Tong - Remarks',axis=1,inplace=True)\n",
    "\n",
    "df.drop('Grade C Sheung Wan - Remarks',axis=1,inplace=True)\n",
    "df.drop('Grade C Central - Remarks',axis=1,inplace=True)\n",
    "df.drop('Grade C Wan Chai / Causeway Bay - Remarks',axis=1,inplace=True)\n",
    "df.drop('Grade C North Point / Quarry Bay - Remarks',axis=1,inplace=True)\n",
    "df.drop('Grade C Tsim Sha Tsui - Remarks',axis=1,inplace=True)\n",
    "df.drop('Grade C Yau Ma Tei / Mong Kok - Remarks',axis=1,inplace=True)\n",
    "df.drop('Grade C Kowloon Bay / Kwun Tong - Remarks',axis=1,inplace=True)\n",
    "\n",
    "# -- 2.2 Encode strings into numbers\n",
    "# These District may not have private office in the first few years, then we change the n/a to 0.\n",
    "df['Grade A Kowloon Bay / Kwun Tong'] = df['Grade A Kowloon Bay / Kwun Tong'].replace(np.nan, 0)\n",
    "df['Grade B Kowloon Bay / Kwun Tong'] = df['Grade B Kowloon Bay / Kwun Tong'].replace(np.nan, 0)\n",
    "df['Grade C Kowloon Bay / Kwun Tong'] = df['Grade C Kowloon Bay / Kwun Tong'].replace(np.nan, 0)\n",
    "# Some data are missing, change the string into null to proccess missing data.\n",
    "df = df.replace('-',None)\n",
    "\n",
    "# -- 2.3 Handle missing data, if any\n",
    "missing_data = df.isnull().sum()\n",
    "print(missing_data)\n",
    "\n",
    "if missing_data.any():\n",
    "    columns_to_impute = ['Grade A Sheung Wan', 'Grade A Central', 'Grade A Wan Chai / Causeway Bay', 'Grade A North Point / Quarry Bay', 'Grade A Tsim Sha Tsui', 'Grade A Yau Ma Tei / Mong Kok', 'Grade A Kowloon Bay / Kwun Tong','Grade B Sheung Wan', 'Grade B Central', 'Grade B Wan Chai / Causeway Bay', 'Grade B North Point / Quarry Bay', 'Grade B Tsim Sha Tsui', 'Grade B Yau Ma Tei / Mong Kok', 'Grade B Kowloon Bay / Kwun Tong', 'Grade C Sheung Wan', 'Grade C Central', 'Grade C Wan Chai / Causeway Bay', 'Grade C North Point / Quarry Bay', 'Grade C Tsim Sha Tsui', 'Grade C Yau Ma Tei / Mong Kok', 'Grade C Kowloon Bay / Kwun Tong']\n",
    "    imputer = SimpleImputer(missing_values=np.nan, strategy='mean')\n",
    "    df[columns_to_impute] = pd.DataFrame(imputer.fit_transform(df[columns_to_impute]))"
   ]
  },
  {
   "cell_type": "code",
   "execution_count": null,
   "id": "08c0d286-aa04-4d24-82dc-01d509dae321",
   "metadata": {},
   "outputs": [],
   "source": [
    "# -- 2.4 Check the updated data again\n",
    "# Check there is no misssing data\n",
    "missing_data = df.isnull().sum()\n",
    "print(missing_data)\n",
    "# Updates a Clear dataset\n",
    "print(df.info())\n",
    "print(df)"
   ]
  },
  {
   "cell_type": "code",
   "execution_count": null,
   "id": "c8253f16",
   "metadata": {},
   "outputs": [],
   "source": [
    "# -- 2.5 train_test_split\n",
    "# Fit the train data\n",
    "X = df['Grade A Central']\n",
    "y = df['Grade C Central']\n",
    "X = np.array(X).reshape(-1, 1)\n",
    "# Split the dataset (Take 80% as train and 20% as test)\n",
    "x_train, x_test, Y_train, Y_test = train_test_split(X, y, test_size=0.2, random_state = 42 )\n",
    "print(x_train)\n",
    "print(Y_train)"
   ]
  },
  {
   "cell_type": "code",
   "execution_count": null,
   "id": "0ba28318",
   "metadata": {},
   "outputs": [],
   "source": [
    "# ** 3. Linear Regression\n",
    "# Create linear regression model\n",
    "model = LinearRegression()\n",
    "model.fit(x_train,Y_train)\n",
    "\n",
    "# Predicting rent for the test set\n",
    "Y_pred = model.predict(x_test)\n",
    "\n",
    "# Evaluating the model\n",
    "mse = mean_squared_error(Y_test, Y_pred)\n",
    "r2 = r2_score(Y_test, Y_pred)\n",
    "print(\"Mean Squared Error:\", mse)\n",
    "print(\"R-squared:\", r2)\n",
    "\n",
    "# Print the coefficients and intercept of the model\n",
    "print(\"Coefficients:\", model.coef_)\n",
    "print(\"Intercept:\", model.intercept_)"
   ]
  },
  {
   "cell_type": "code",
   "execution_count": null,
   "id": "ef65fe82-1e3f-4035-bb32-056de1a827e7",
   "metadata": {},
   "outputs": [],
   "source": [
    "# Visualize the results\n",
    "plt.scatter(x_test, Y_test, color='blue', label='Actual')\n",
    "plt.plot(x_test, Y_pred, color='red', label='Predicted')\n",
    "plt.xlabel('Grade A Central')\n",
    "plt.ylabel('Grade C Central')\n",
    "plt.title('Rent Rates: Actual vs. Predicted')\n",
    "plt.legend()\n",
    "plt.show()"
   ]
  },
  {
   "cell_type": "code",
   "execution_count": null,
   "id": "0521f98e-b702-4a2e-bebf-d4037337f6ab",
   "metadata": {},
   "outputs": [],
   "source": [
    "# ** 4. Times series ( a series of data points recorded at different time intervals\n",
    "# ** Preperation of Times series\n",
    "# Restore the Index to be Month\n",
    "df = df.set_index('Month')\n",
    "#df.index = pd.to_datetime(df.index, format=\"%b-%y\")\n",
    "df.index = pd.to_datetime(df.index)\n"
   ]
  },
  {
   "cell_type": "code",
   "execution_count": null,
   "id": "d7882461",
   "metadata": {},
   "outputs": [],
   "source": [
    "#Prepare columns for compare the price of 2 place\n",
    "col = 'Grade A Central'\n",
    "col2 = 'Grade A Wan Chai / Causeway Bay'\n",
    "df = df[[col, col2]]\n",
    "print(df)"
   ]
  },
  {
   "cell_type": "code",
   "execution_count": null,
   "id": "78a6efcb",
   "metadata": {},
   "outputs": [],
   "source": [
    "# A basic graph to show the data\n",
    "df[col].plot(kind='line', figsize=(8, 4), label=col)\n",
    "df[col2].plot(kind='line', figsize=(8, 4), label=col2)\n",
    "plt.ylabel('Price per square meter')\n",
    "plt.title(col + ' VS ' + col2)\n",
    "plt.legend()\n",
    "plt.gca().spines[['top', 'right']].set_visible(False)"
   ]
  },
  {
   "cell_type": "code",
   "execution_count": null,
   "id": "4c3186d5",
   "metadata": {},
   "outputs": [],
   "source": [
    "# Prepare column for time series data \n",
    "df = df[[col]]\n",
    "print(df)"
   ]
  },
  {
   "cell_type": "code",
   "execution_count": null,
   "id": "eb1b5452",
   "metadata": {},
   "outputs": [],
   "source": [
    "# A basic graph to show the data\n",
    "df[col].plot(kind='line', figsize=(8, 4), label=col)\n",
    "plt.ylabel('Price per square meter')\n",
    "plt.title(col)\n",
    "plt.legend()\n",
    "plt.gca().spines[['top', 'right']].set_visible(False)"
   ]
  },
  {
   "cell_type": "code",
   "execution_count": null,
   "id": "62171112",
   "metadata": {},
   "outputs": [],
   "source": [
    "# ** 5. AutoSARIMA model\n",
    "model = pm.auto_arima(df, start_p=1, start_q=1,\n",
    "                         test='adf',\n",
    "                         max_p=3, max_q=3, m=12,\n",
    "                         start_P=0, seasonal=True,\n",
    "                         d=None, D=1, trace=True,\n",
    "                         error_action='ignore',\n",
    "                         suppress_warnings=True,\n",
    "                         stepwise=True)\n",
    "\n",
    "model.summary()"
   ]
  },
  {
   "cell_type": "code",
   "execution_count": null,
   "id": "44fd9d7f",
   "metadata": {},
   "outputs": [],
   "source": [
    "# Forecast\n",
    "n_periods = 36\n",
    "fitted, confint = model.predict(n_periods=n_periods, return_conf_int=True)\n",
    "index_of_fc = pd.date_range(df.index[-1], periods = n_periods, freq='MS')\n",
    "\n",
    "# make series for plotting purpose\n",
    "fitted_series = pd.Series(fitted, index=index_of_fc)\n",
    "lower_series = pd.Series(confint[:, 0], index=index_of_fc)\n",
    "upper_series = pd.Series(confint[:, 1], index=index_of_fc)\n",
    "\n",
    "# Plot the graph\n",
    "plt.plot(df)\n",
    "plt.plot(fitted_series, color='darkgreen')\n",
    "plt.fill_between(lower_series.index,\n",
    "                 lower_series,\n",
    "                 upper_series,\n",
    "                 color='k', alpha=.15)\n",
    "\n",
    "plt.title('SARIMA -'+ col +' Price Prediction')\n",
    "plt.xlabel('Year')\n",
    "plt.ylabel('Price per square meter')\n",
    "plt.show()"
   ]
  },
  {
   "cell_type": "code",
   "execution_count": null,
   "id": "ad71adb4",
   "metadata": {},
   "outputs": [],
   "source": []
  }
 ],
 "metadata": {
  "kernelspec": {
   "display_name": "Python 3 (ipykernel)",
   "language": "python",
   "name": "python3"
  },
  "language_info": {
   "codemirror_mode": {
    "name": "ipython",
    "version": 3
   },
   "file_extension": ".py",
   "mimetype": "text/x-python",
   "name": "python",
   "nbconvert_exporter": "python",
   "pygments_lexer": "ipython3",
   "version": "3.11.5"
  }
 },
 "nbformat": 4,
 "nbformat_minor": 5
}
